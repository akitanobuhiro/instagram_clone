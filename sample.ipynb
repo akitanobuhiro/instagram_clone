{
 "cells": [
  {
   "cell_type": "markdown",
   "metadata": {},
   "source": [
    "### kivyでデザインする前提としての画面構成\n",
    "\n",
    "#### 画面レイアウト---------------------------------------------------------------\n",
    "\n",
    "|widget|widget|widget|widget\n",
    "|-|-|-|-\n",
    "|- children<br>- children<br>- children|- children<br>- children|- children<br>- children<br>- children<br>- children|- children<br>- children<br>- children\n",
    "\n",
    "#### ---------------------------------------------------------------\n",
    "\n",
    "こんな感じで画面全体をwidgetという機能の最小単位で分けてレイアウトして、その中にさらに小さいパーツであるchildenを配置していくよ<br>\n",
    "\n",
    "それらをpython側で動かすために<br>\n",
    "kivymdモジュールの中にもwidgetクラスというものがあるよ。<br>\n",
    "widgetクラスは結構な抽象クラスで、画面のレイアウトを決めるlayoutクラスを継承するよ。<br>\n",
    "### kivymdで提供している主なLayoutクラス\n",
    "#### ＜AnchorLayout＞\n",
    "画面の'top'、'bottom'、'left'、'right'、'center'に固定する\n",
    "#### ＜BoxLayout＞\n",
    "'vertical'(垂直)または'hoizontal'(水平)のいずれかの方向に順番に配置される\n",
    "#### ＜FloatLayout＞\n",
    "ウィジェットは基本的に制限されていない\n",
    "#### ＜RelativeLayout＞\n",
    "レイアウトを継承にして配置される\n",
    "#### ＜GridLayout＞\n",
    "rowsプロパティとcolsプロパティで定義されたグリッドに配置される\n",
    "#### ＜PageLayout＞\n",
    "境界線を使用して1つのページから別のページに簡単にめくることができるように、単純な複数ページのレイアウトを作成するために使用される\n",
    "#### ＜ScatterLayout＞\n",
    "RelativeLayoutと同様に配置され、変換、回転、およびスケーリングできる\n",
    "#### ＜StackedLayout＞\n",
    "lr-tb（左から右、次に上から下）またはtb-lrの順序で配置される"
   ]
  },
  {
   "cell_type": "markdown",
   "metadata": {},
   "source": [
    "### kivymdのよく使うchildrenのkivyコード\n",
    "kivyではすでにあるパーツを組み合わせて新しいパーツを作っていくという認識だと思う<br>"
   ]
  },
  {
   "cell_type": "code",
   "execution_count": null,
   "metadata": {},
   "outputs": [],
   "source": [
    "RelativeLayout:#継承レイアウト?標準の\n",
    "    canvas:\n",
    "        Color:\n",
    "            rgba: app.theme_cls.primary_color\n",
    "        RoundedRectangle:\n",
    "            pos: (0, 0)\n",
    "            size: self.size\n",
    "            radius: [25, ]#曲率半径"
   ]
  },
  {
   "cell_type": "code",
   "execution_count": null,
   "metadata": {},
   "outputs": [],
   "source": [
    "MDRelativeLayout:#\n",
    "    radius: [25, ]\n",
    "    md_bg_color: app.theme_cls.primary_color"
   ]
  }
 ],
 "metadata": {
  "language_info": {
   "name": "python"
  },
  "orig_nbformat": 4
 },
 "nbformat": 4,
 "nbformat_minor": 2
}
